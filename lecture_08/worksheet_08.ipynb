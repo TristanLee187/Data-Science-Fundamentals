{
 "cells": [
  {
   "cell_type": "markdown",
   "metadata": {},
   "source": [
    "# Worksheet 08\n",
    "\n",
    "Name: Tristan Lee\n",
    "UID: U24272030\n",
    "\n",
    "### Topics\n",
    "\n",
    "- Soft Clustering\n",
    "- Clustering Aggregation\n",
    "\n",
    "### Probability Review\n",
    "\n",
    "Read through [the following](https://medium.com/@gallettilance/overview-of-probability-3272b72c82c8)\n",
    "\n",
    "### Soft Clustering\n",
    "\n",
    "We generate 10 data points that come from a normal distribution with mean 5 and variance 1."
   ]
  },
  {
   "cell_type": "code",
   "execution_count": 12,
   "metadata": {},
   "outputs": [
    {
     "name": "stdout",
     "output_type": "stream",
     "text": [
      "[6.387399385178682, 5.30477624129256, 4.814471200900233, 5.00288778878781, 5.515488691340493, 4.5224874355829074, 5.700253083794859, 4.870430782400645, 5.3384720159144745, 5.834922366071481]\n"
     ]
    }
   ],
   "source": [
    "import random\n",
    "import numpy as np\n",
    "from sklearn.cluster import KMeans\n",
    "\n",
    "mean = 5\n",
    "stdev = 1\n",
    "\n",
    "s1 = np.random.normal(mean, stdev, 10).tolist()\n",
    "print(s1)"
   ]
  },
  {
   "cell_type": "markdown",
   "metadata": {},
   "source": [
    "a) Generate 10 more data points, this time coming from a normal distribution with mean 8 and variance 1."
   ]
  },
  {
   "cell_type": "code",
   "execution_count": 13,
   "metadata": {},
   "outputs": [
    {
     "name": "stdout",
     "output_type": "stream",
     "text": [
      "[7.9402040261814735, 7.716514740204005, 6.545294703337508, 7.474234979305289, 8.908433364747292, 7.604131192330265, 9.495670671954688, 8.998645536789494, 7.132059973105156, 7.793000838488174]\n"
     ]
    }
   ],
   "source": [
    "s2 = np.random.normal(8, 1, 10).tolist()\n",
    "print(s2)"
   ]
  },
  {
   "cell_type": "markdown",
   "metadata": {},
   "source": [
    "b) Flip a fair coin 10 times. If the coin lands on H, then pick the last data point of `s1` and remove it from `s1`, if T then pick the last data point from `s2` and remove it from `s2`. Add these 10 points to a list called `data`."
   ]
  },
  {
   "cell_type": "code",
   "execution_count": 14,
   "metadata": {},
   "outputs": [
    {
     "name": "stdout",
     "output_type": "stream",
     "text": [
      "[7.793000838488174, 7.132059973105156, 8.998645536789494, 9.495670671954688, 5.834922366071481, 5.3384720159144745, 7.604131192330265, 8.908433364747292, 7.474234979305289, 6.545294703337508]\n"
     ]
    }
   ],
   "source": [
    "data = []\n",
    "for i in range(10):\n",
    "    # flip coin\n",
    "    coin_output = random.choice([0, 1])\n",
    "    if coin_output == 0:\n",
    "        p1 = s1.pop()\n",
    "        data.append(p1)\n",
    "    else:\n",
    "        p1 = s2.pop()\n",
    "        data.append(p1)\n",
    "print(data)"
   ]
  },
  {
   "cell_type": "markdown",
   "metadata": {},
   "source": [
    "c) This `data` is a Gaussian Mixture Distribution with 2 mixture components. Over the next few questions we will walk through the GMM algorithm to see if we can uncover the parameters we used to generate this data. First, please list all these parameters of the GMM that created `data` and the values we know they have."
   ]
  },
  {
   "cell_type": "markdown",
   "metadata": {},
   "source": [
    "We need the priors for both s1 and s2, and the mean and variances for the distributions of their weights (so 6 total parameters). We know the means and variances for each species since we initializes them, but not the priors."
   ]
  },
  {
   "cell_type": "markdown",
   "metadata": {},
   "source": [
    "d) Let's assume there are two mixture components (note: we could plot the data and make the observation that there are two clusters). The EM algorithm asks us to start with a random `mean_j`, `variance_j`, `P(S_j)` for each component j. One method we could use to find sensible values for these is to apply K means with k=2 here.\n",
    "\n",
    "1. the centroids would be the estimates of the `mean_j`\n",
    "2. the intra-cluster variance could be the estimate of `variance_j`\n",
    "3. the proportion of points in each cluster could be the estimate of `P(S_j)`\n",
    "\n",
    "Go through this process and list the parameter estimates it gives. Are they close or far from the true values?"
   ]
  },
  {
   "cell_type": "code",
   "execution_count": 15,
   "metadata": {},
   "outputs": [
    {
     "name": "stdout",
     "output_type": "stream",
     "text": [
      "[7.793000838488174, 7.132059973105156, 5.834922366071481, 5.3384720159144745, 7.604131192330265, 7.474234979305289, 6.545294703337508]\n",
      "[8.998645536789494, 9.495670671954688, 8.908433364747292]\n",
      "P(S_1) = 0.7,  P(S_2) = 0.3\n",
      "mean_1 = 6.817445152650335,  mean_2 = 9.134249857830492\n",
      "var_1 = 0.7611025164627503,  var_2 = 0.06666887510519375\n"
     ]
    }
   ],
   "source": [
    "kmeans = KMeans(2, init='k-means++').fit(X=np.array(data).reshape(-1, 1))\n",
    "\n",
    "s1 = [x[0] for x in filter(lambda x: x[1] == 0, zip(data, kmeans.labels_))]\n",
    "print(s1)\n",
    "s2 = [x[0] for x in filter(lambda x: x[1] == 1, zip(data, kmeans.labels_))]\n",
    "print(s2)\n",
    "\n",
    "prob_s = [ len(s1) / (len(s1) + len(s2)) , len(s2) / (len(s1) + len(s2)) ]\n",
    "mean = [ sum(s1)/len(s1) , sum(s2)/len(s2) ]\n",
    "var = [ sum(map(lambda x : (x - mean[0])**2, s1)) / len(s1) , sum(map(lambda x : (x - mean[1])**2, s2)) / len(s2) ]\n",
    "\n",
    "print(\"P(S_1) = \" + str(prob_s[0]) + \",  P(S_2) = \" + str(prob_s[1]))\n",
    "print(\"mean_1 = \" + str(mean[0]) + \",  mean_2 = \" + str(mean[1]))\n",
    "print(\"var_1 = \" + str(var[0]) + \",  var_2 = \" + str(var[1]))"
   ]
  },
  {
   "cell_type": "markdown",
   "metadata": {},
   "source": [
    "There are pretty close; P(S_i) are exactly right, the means are quite close, and the variances are pretty close too."
   ]
  },
  {
   "cell_type": "markdown",
   "metadata": {},
   "source": [
    "e) For each data point, compute `P(S_j | X_i)`. Comment on which cluster you think each point belongs to based on the estimated probabilities. How does that compare to the truth?"
   ]
  },
  {
   "cell_type": "code",
   "execution_count": 16,
   "metadata": {},
   "outputs": [
    {
     "name": "stdout",
     "output_type": "stream",
     "text": [
      "point =  7.793000838488174\n",
      "probability of observing that point if it came from cluster 0 =  0.24471470694782138\n",
      "probability of observing that point if it came from cluster 1 =  2.135947849997728e-06\n",
      "point =  7.132059973105156\n",
      "probability of observing that point if it came from cluster 0 =  0.428497382655352\n",
      "probability of observing that point if it came from cluster 1 =  1.3551872631496157e-13\n",
      "point =  8.998645536789494\n",
      "probability of observing that point if it came from cluster 0 =  0.020081948661373018\n",
      "probability of observing that point if it came from cluster 1 =  1.3460314327499403\n",
      "point =  9.495670671954688\n",
      "probability of observing that point if it came from cluster 0 =  0.0041088301620048765\n",
      "probability of observing that point if it came from cluster 1 =  0.5800824214066621\n",
      "point =  5.834922366071481\n",
      "probability of observing that point if it came from cluster 0 =  0.24253135141272814\n",
      "probability of observing that point if it came from cluster 1 =  5.414732822949678e-36\n",
      "point =  5.3384720159144745\n",
      "probability of observing that point if it came from cluster 0 =  0.108672773818186\n",
      "probability of observing that point if it came from cluster 1 =  1.823354995260981e-47\n",
      "point =  7.604131192330265\n",
      "probability of observing that point if it came from cluster 0 =  0.3045226880919548\n",
      "probability of observing that point if it came from cluster 1 =  3.657789252126385e-08\n",
      "point =  8.908433364747292\n",
      "probability of observing that point if it came from cluster 0 =  0.02586805779193724\n",
      "probability of observing that point if it came from cluster 1 =  1.054044330990627\n",
      "point =  7.474234979305289\n",
      "probability of observing that point if it came from cluster 0 =  0.3444412410646567\n",
      "probability of observing that point if it came from cluster 1 =  1.6350117337347223e-09\n",
      "point =  6.545294703337508\n",
      "probability of observing that point if it came from cluster 0 =  0.43556907564816116\n",
      "probability of observing that point if it came from cluster 1 =  2.2783268452867717e-22\n",
      "7.793000838488174\n",
      "Probability of coming from S_1 = 0.9999962593061587\n",
      "Probability of coming from S_2 = 3.7406938413732824e-06\n",
      "\n",
      "7.132059973105156\n",
      "Probability of coming from S_1 = 0.9999999999998646\n",
      "Probability of coming from S_2 = 1.3554214444686584e-13\n",
      "\n",
      "8.998645536789494\n",
      "Probability of coming from S_1 = 0.03364077803878044\n",
      "Probability of coming from S_2 = 0.9663592219612196\n",
      "\n",
      "9.495670671954688\n",
      "Probability of coming from S_1 = 0.016258713160235326\n",
      "Probability of coming from S_2 = 0.9837412868397647\n",
      "\n",
      "5.834922366071481\n",
      "Probability of coming from S_1 = 1.0\n",
      "Probability of coming from S_2 = 9.568246611198168e-36\n",
      "\n",
      "5.3384720159144745\n",
      "Probability of coming from S_1 = 1.0\n",
      "Probability of coming from S_2 = 7.190741780634279e-47\n",
      "\n",
      "7.604131192330265\n",
      "Probability of coming from S_1 = 0.9999999485219345\n",
      "Probability of coming from S_2 = 5.1478065372436466e-08\n",
      "\n",
      "8.908433364747292\n",
      "Probability of coming from S_1 = 0.0541624478197897\n",
      "Probability of coming from S_2 = 0.9458375521802103\n",
      "\n",
      "7.474234979305289\n",
      "Probability of coming from S_1 = 0.9999999979656347\n",
      "Probability of coming from S_2 = 2.0343653125459613e-09\n",
      "\n",
      "6.545294703337508\n",
      "Probability of coming from S_1 = 1.0\n",
      "Probability of coming from S_2 = 2.2417243221047986e-22\n",
      "\n"
     ]
    }
   ],
   "source": [
    "from scipy.stats import norm\n",
    "from math import sqrt\n",
    "\n",
    "prob_s0_x = [] # P(S_0 | X_i)\n",
    "prob_s1_x = [] # P(S_1 | X_i)\n",
    "prob_x = [] # P(X_i)\n",
    "\n",
    "k = 2\n",
    "\n",
    "for p in data:\n",
    "    print(\"point = \", p)\n",
    "    pdf_i = []\n",
    "\n",
    "    for j in range(k):\n",
    "        # P(X_i | S_j)\n",
    "        pdf_i.append(norm.pdf(p, mean[j], sqrt(var[j])))\n",
    "        print(\"probability of observing that point if it came from cluster \" + str(j) + \" = \", pdf_i[j])\n",
    "        # P(S_j) already computed\n",
    "        prob_s[j]\n",
    "\n",
    "    # P(X_i) = P(S_0)P(X_i | S_0) + P(S_1)P(X_i | S_1)\n",
    "    prob_x = prob_s[0] * pdf_i[0] + prob_s[1] * pdf_i[1]\n",
    "\n",
    "    # P(S_j | X_i) = P(X_i | S_j)P(S_j) / P(X_i)\n",
    "    prob_s0_x.append( pdf_i[0] * prob_s[0] / prob_x )\n",
    "    prob_s1_x.append( pdf_i[1] * prob_s[1] / prob_x )\n",
    "\n",
    "probs = zip(data, prob_s0_x, prob_s1_x)\n",
    "for p in probs:\n",
    "    print(p[0])\n",
    "    print(\"Probability of coming from S_1 = \" + str(p[1]))\n",
    "    print(\"Probability of coming from S_2 = \" + str(p[2]))\n",
    "    print()\n"
   ]
  },
  {
   "cell_type": "markdown",
   "metadata": {},
   "source": [
    "f) Having computed `P(S_j | X_i)`, update the estimates of `mean_j`, `var_j`, and `P(S_j)`. How different are these values from the original ones you got from K means? briefly comment."
   ]
  },
  {
   "cell_type": "code",
   "execution_count": 17,
   "metadata": {},
   "outputs": [
    {
     "name": "stdout",
     "output_type": "stream",
     "text": [
      "P(S_1) = 0.7,  P(S_2) = 0.3\n",
      "mean_1 = 6.849845102457459,  mean_2 = 9.138017637965763\n",
      "var_1 = 0.8211841290447569,  var_2 = 0.06715192145063857\n"
     ]
    }
   ],
   "source": [
    "prob_c = [sum(prob_s0_x)/ len(prob_s0_x), sum(prob_s1_x)/ len(prob_s1_x) ]\n",
    "mean = [sum([x[0] * x[1] for x in zip(prob_s0_x, data)]) / sum(prob_s0_x), sum([x[0] * x[1] for x in zip(prob_s1_x, data)]) / sum(prob_s1_x) ]\n",
    "var = [ sum([x[0] * (x[1] - mean[0]) ** 2 for x in zip(prob_s0_x, data)]) / sum(prob_s0_x) , sum([x[0] * (x[1] - mean[1]) ** 2 for x in zip(prob_s1_x, data)]) / sum(prob_s1_x) ]\n",
    "\n",
    "print(\"P(S_1) = \" + str(prob_s[0]) + \",  P(S_2) = \" + str(prob_s[1]))\n",
    "print(\"mean_1 = \" + str(mean[0]) + \",  mean_2 = \" + str(mean[1]))\n",
    "print(\"var_1 = \" + str(var[0]) + \",  var_2 = \" + str(var[1]))"
   ]
  },
  {
   "cell_type": "markdown",
   "metadata": {},
   "source": [
    "It looks like the estimates are further from what they should be. This is probably just because the random initialization of the species weights wasn't representative of the actual parameters."
   ]
  },
  {
   "cell_type": "markdown",
   "metadata": {},
   "source": [
    "g) Update `P(S_j | X_i)`. Comment on any differences or lack thereof you observe."
   ]
  },
  {
   "cell_type": "code",
   "execution_count": null,
   "metadata": {},
   "outputs": [],
   "source": []
  },
  {
   "cell_type": "markdown",
   "metadata": {},
   "source": []
  },
  {
   "cell_type": "markdown",
   "metadata": {},
   "source": [
    "h) Use `P(S_j | X_i)` to create a hard assignment - label each point as belonging to a specific cluster (0 or 1)"
   ]
  },
  {
   "cell_type": "code",
   "execution_count": null,
   "metadata": {},
   "outputs": [],
   "source": []
  }
 ],
 "metadata": {
  "kernelspec": {
   "display_name": "Python 3",
   "language": "python",
   "name": "python3"
  },
  "language_info": {
   "codemirror_mode": {
    "name": "ipython",
    "version": 3
   },
   "file_extension": ".py",
   "mimetype": "text/x-python",
   "name": "python",
   "nbconvert_exporter": "python",
   "pygments_lexer": "ipython3",
   "version": "3.8.8"
  },
  "vscode": {
   "interpreter": {
    "hash": "e7370f93d1d0cde622a1f8e1c04877d8463912d04d973331ad4851f04de6915a"
   }
  }
 },
 "nbformat": 4,
 "nbformat_minor": 2
}
