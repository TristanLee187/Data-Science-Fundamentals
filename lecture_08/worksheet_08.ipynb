{
 "cells": [
  {
   "cell_type": "markdown",
   "metadata": {},
   "source": [
    "# Worksheet 08\n",
    "\n",
    "Name: Tristan Lee\n",
    "UID: U24272030\n",
    "\n",
    "### Topics\n",
    "\n",
    "- Soft Clustering\n",
    "- Clustering Aggregation\n",
    "\n",
    "### Probability Review\n",
    "\n",
    "Read through [the following](https://medium.com/@gallettilance/overview-of-probability-3272b72c82c8)\n",
    "\n",
    "### Soft Clustering\n",
    "\n",
    "We generate 10 data points that come from a normal distribution with mean 5 and variance 1."
   ]
  },
  {
   "cell_type": "code",
   "execution_count": 40,
   "metadata": {},
   "outputs": [
    {
     "name": "stdout",
     "output_type": "stream",
     "text": [
      "[5.99028640788274, 5.983865556888575, 4.497879431029041, 3.6541646183444403, 4.6284893897784825, 6.140305301078399, 5.2351246284288635, 6.675454034798956, 4.787315074869976, 4.732381582389137]\n"
     ]
    }
   ],
   "source": [
    "import random\n",
    "import numpy as np\n",
    "from sklearn.cluster import KMeans\n",
    "\n",
    "mean = 5\n",
    "stdev = 1\n",
    "\n",
    "s1 = np.random.normal(mean, stdev, 10).tolist()\n",
    "print(s1)"
   ]
  },
  {
   "cell_type": "markdown",
   "metadata": {},
   "source": [
    "a) Generate 10 more data points, this time coming from a normal distribution with mean 8 and variance 1."
   ]
  },
  {
   "cell_type": "code",
   "execution_count": 41,
   "metadata": {},
   "outputs": [
    {
     "name": "stdout",
     "output_type": "stream",
     "text": [
      "[10.060850384628726, 8.819206045232145, 7.208630741485397, 5.679303656681893, 6.717370664043483, 7.515861175829191, 7.023159985821022, 8.735684019022884, 9.057116734578575, 6.741573126937684]\n"
     ]
    }
   ],
   "source": [
    "s2 = np.random.normal(8, 1, 10).tolist()\n",
    "print(s2)"
   ]
  },
  {
   "cell_type": "markdown",
   "metadata": {},
   "source": [
    "b) Flip a fair coin 10 times. If the coin lands on H, then pick the last data point of `s1` and remove it from `s1`, if T then pick the last data point from `s2` and remove it from `s2`. Add these 10 points to a list called `data`."
   ]
  },
  {
   "cell_type": "code",
   "execution_count": 42,
   "metadata": {},
   "outputs": [
    {
     "name": "stdout",
     "output_type": "stream",
     "text": [
      "[6.741573126937684, 4.732381582389137, 4.787315074869976, 6.675454034798956, 9.057116734578575, 5.2351246284288635, 6.140305301078399, 4.6284893897784825, 3.6541646183444403, 4.497879431029041]\n"
     ]
    }
   ],
   "source": [
    "data = []\n",
    "for i in range(10):\n",
    "    # flip coin\n",
    "    coin_output = random.choice([0, 1])\n",
    "    if coin_output == 0:\n",
    "        p1 = s1.pop()\n",
    "        data.append(p1)\n",
    "    else:\n",
    "        p1 = s2.pop()\n",
    "        data.append(p1)\n",
    "print(data)"
   ]
  },
  {
   "cell_type": "markdown",
   "metadata": {},
   "source": [
    "c) This `data` is a Gaussian Mixture Distribution with 2 mixture components. Over the next few questions we will walk through the GMM algorithm to see if we can uncover the parameters we used to generate this data. First, please list all these parameters of the GMM that created `data` and the values we know they have."
   ]
  },
  {
   "cell_type": "markdown",
   "metadata": {},
   "source": [
    "We need the priors for both s1 and s2, and the mean and variances for the distributions of their weights (so 6 total parameters). We know the means and variances for each species since we initializes them, but not the priors."
   ]
  },
  {
   "cell_type": "markdown",
   "metadata": {},
   "source": [
    "d) Let's assume there are two mixture components (note: we could plot the data and make the observation that there are two clusters). The EM algorithm asks us to start with a random `mean_j`, `variance_j`, `P(S_j)` for each component j. One method we could use to find sensible values for these is to apply K means with k=2 here.\n",
    "\n",
    "1. the centroids would be the estimates of the `mean_j`\n",
    "2. the intra-cluster variance could be the estimate of `variance_j`\n",
    "3. the proportion of points in each cluster could be the estimate of `P(S_j)`\n",
    "\n",
    "Go through this process and list the parameter estimates it gives. Are they close or far from the true values?"
   ]
  },
  {
   "cell_type": "code",
   "execution_count": 43,
   "metadata": {},
   "outputs": [
    {
     "name": "stdout",
     "output_type": "stream",
     "text": [
      "[4.732381582389137, 4.787315074869976, 5.2351246284288635, 4.6284893897784825, 3.6541646183444403, 4.497879431029041]\n",
      "[6.741573126937684, 6.675454034798956, 9.057116734578575, 6.140305301078399]\n",
      "P(S_1) = 0.6,  P(S_2) = 0.4\n",
      "mean_1 = 4.589225787473324,  mean_2 = 7.153612299348404\n",
      "var_1 = 0.2268572395768833,  var_2 = 1.262132953310437\n"
     ]
    },
    {
     "name": "stderr",
     "output_type": "stream",
     "text": [
      "/usr/local/lib/python3.9/site-packages/sklearn/cluster/_kmeans.py:1416: FutureWarning: The default value of `n_init` will change from 10 to 'auto' in 1.4. Set the value of `n_init` explicitly to suppress the warning\n",
      "  super()._check_params_vs_input(X, default_n_init=10)\n"
     ]
    }
   ],
   "source": [
    "kmeans = KMeans(2, init='k-means++').fit(X=np.array(data).reshape(-1, 1))\n",
    "\n",
    "s1 = [x[0] for x in filter(lambda x: x[1] == 0, zip(data, kmeans.labels_))]\n",
    "print(s1)\n",
    "s2 = [x[0] for x in filter(lambda x: x[1] == 1, zip(data, kmeans.labels_))]\n",
    "print(s2)\n",
    "\n",
    "prob_s = [ len(s1) / (len(s1) + len(s2)) , len(s2) / (len(s1) + len(s2)) ]\n",
    "mean = [ sum(s1)/len(s1) , sum(s2)/len(s2) ]\n",
    "var = [ sum(map(lambda x : (x - mean[0])**2, s1)) / len(s1) , sum(map(lambda x : (x - mean[1])**2, s2)) / len(s2) ]\n",
    "\n",
    "print(\"P(S_1) = \" + str(prob_s[0]) + \",  P(S_2) = \" + str(prob_s[1]))\n",
    "print(\"mean_1 = \" + str(mean[0]) + \",  mean_2 = \" + str(mean[1]))\n",
    "print(\"var_1 = \" + str(var[0]) + \",  var_2 = \" + str(var[1]))"
   ]
  },
  {
   "cell_type": "markdown",
   "metadata": {},
   "source": [
    "The values are in the right neighborhood; the P(S_i) are not exactly 0.5 but are pretty close. The means are also pretty close. The variances are a bit off, especially var_1, which seems to be a result of the random points being really close to the guessed mean."
   ]
  },
  {
   "cell_type": "markdown",
   "metadata": {},
   "source": [
    "e) For each data point, compute `P(S_j | X_i)`. Comment on which cluster you think each point belongs to based on the estimated probabilities. How does that compare to the truth?"
   ]
  },
  {
   "cell_type": "code",
   "execution_count": 44,
   "metadata": {},
   "outputs": [
    {
     "name": "stdout",
     "output_type": "stream",
     "text": [
      "point =  6.741573126937684\n",
      "probability of observing that point if it came from cluster 0 =  3.081202944307527e-05\n",
      "probability of observing that point if it came from cluster 1 =  0.3320074825585267\n",
      "point =  4.732381582389137\n",
      "probability of observing that point if it came from cluster 0 =  0.8006032224847547\n",
      "probability of observing that point if it came from cluster 1 =  0.03481380436471897\n",
      "point =  4.787315074869976\n",
      "probability of observing that point if it came from cluster 0 =  0.7681993074077443\n",
      "probability of observing that point if it came from cluster 1 =  0.03863663658961974\n",
      "point =  6.675454034798956\n",
      "probability of observing that point if it came from cluster 0 =  5.7144667815551306e-05\n",
      "probability of observing that point if it came from cluster 1 =  0.32435552514963395\n",
      "point =  9.057116734578575\n",
      "probability of observing that point if it came from cluster 0 =  6.537394856432445e-20\n",
      "probability of observing that point if it came from cluster 1 =  0.0845223538149004\n",
      "point =  5.2351246284288635\n",
      "probability of observing that point if it came from cluster 0 =  0.3339680328308244\n",
      "probability of observing that point if it came from cluster 1 =  0.08262645584268677\n",
      "point =  6.140305301078399\n",
      "probability of observing that point if it came from cluster 0 =  0.004170246840505935\n",
      "probability of observing that point if it came from cluster 1 =  0.23642877536315984\n",
      "point =  4.6284893897784825\n",
      "probability of observing that point if it came from cluster 0 =  0.8347532122902308\n",
      "probability of observing that point if it came from cluster 1 =  0.028401301948629176\n",
      "point =  3.6541646183444403\n",
      "probability of observing that point if it came from cluster 0 =  0.12193209645366888\n",
      "probability of observing that point if it came from cluster 1 =  0.002776109995069834\n",
      "point =  4.497879431029041\n",
      "probability of observing that point if it came from cluster 0 =  0.8223311392004097\n",
      "probability of observing that point if it came from cluster 1 =  0.021722930227712513\n",
      "6.741573126937684\n",
      "Probability of coming from S_1 = 0.00013918846283214202\n",
      "Probability of coming from S_2 = 0.9998608115371679\n",
      "\n",
      "4.732381582389137\n",
      "Probability of coming from S_1 = 0.9718270783562211\n",
      "Probability of coming from S_2 = 0.028172921643778964\n",
      "\n",
      "4.787315074869976\n",
      "Probability of coming from S_1 = 0.9675577447981261\n",
      "Probability of coming from S_2 = 0.0324422552018739\n",
      "\n",
      "6.675454034798956\n",
      "Probability of coming from S_1 = 0.0002641988458524595\n",
      "Probability of coming from S_2 = 0.9997358011541474\n",
      "\n",
      "9.057116734578575\n",
      "Probability of coming from S_1 = 1.1601773781789728e-18\n",
      "Probability of coming from S_2 = 1.0\n",
      "\n",
      "5.2351246284288635\n",
      "Probability of coming from S_1 = 0.8584141548700521\n",
      "Probability of coming from S_2 = 0.14158584512994785\n",
      "\n",
      "6.140305301078399\n",
      "Probability of coming from S_1 = 0.025775768106634723\n",
      "Probability of coming from S_2 = 0.9742242318933653\n",
      "\n",
      "4.6284893897784825\n",
      "Probability of coming from S_1 = 0.977820685888436\n",
      "Probability of coming from S_2 = 0.02217931411156401\n",
      "\n",
      "3.6541646183444403\n",
      "Probability of coming from S_1 = 0.9850484925876208\n",
      "Probability of coming from S_2 = 0.0149515074123793\n",
      "\n",
      "4.497879431029041\n",
      "Probability of coming from S_1 = 0.982693921006105\n",
      "Probability of coming from S_2 = 0.017306078993894934\n",
      "\n"
     ]
    }
   ],
   "source": [
    "from scipy.stats import norm\n",
    "from math import sqrt\n",
    "\n",
    "prob_s0_x = [] # P(S_0 | X_i)\n",
    "prob_s1_x = [] # P(S_1 | X_i)\n",
    "prob_x = [] # P(X_i)\n",
    "\n",
    "k = 2\n",
    "\n",
    "for p in data:\n",
    "    print(\"point = \", p)\n",
    "    pdf_i = []\n",
    "\n",
    "    for j in range(k):\n",
    "        # P(X_i | S_j)\n",
    "        pdf_i.append(norm.pdf(p, mean[j], sqrt(var[j])))\n",
    "        print(\"probability of observing that point if it came from cluster \" + str(j) + \" = \", pdf_i[j])\n",
    "        # P(S_j) already computed\n",
    "        prob_s[j]\n",
    "\n",
    "    # P(X_i) = P(S_0)P(X_i | S_0) + P(S_1)P(X_i | S_1)\n",
    "    prob_x = prob_s[0] * pdf_i[0] + prob_s[1] * pdf_i[1]\n",
    "\n",
    "    # P(S_j | X_i) = P(X_i | S_j)P(S_j) / P(X_i)\n",
    "    prob_s0_x.append( pdf_i[0] * prob_s[0] / prob_x )\n",
    "    prob_s1_x.append( pdf_i[1] * prob_s[1] / prob_x )\n",
    "\n",
    "probs = zip(data, prob_s0_x, prob_s1_x)\n",
    "for p in probs:\n",
    "    print(p[0])\n",
    "    print(\"Probability of coming from S_1 = \" + str(p[1]))\n",
    "    print(\"Probability of coming from S_2 = \" + str(p[2]))\n",
    "    print()\n"
   ]
  },
  {
   "cell_type": "markdown",
   "metadata": {},
   "source": [
    "For each point, the predicted cluster is the one with the highest probability. Using this, the predictions are all nearly correct except for the point 6.675..., which actually came from S_1."
   ]
  },
  {
   "cell_type": "markdown",
   "metadata": {},
   "source": [
    "f) Having computed `P(S_j | X_i)`, update the estimates of `mean_j`, `var_j`, and `P(S_j)`. How different are these values from the original ones you got from K means? briefly comment."
   ]
  },
  {
   "cell_type": "code",
   "execution_count": 46,
   "metadata": {},
   "outputs": [
    {
     "name": "stdout",
     "output_type": "stream",
     "text": [
      "P(S_1) = 0.576954123292188,  P(S_2) = 0.4230458767078119\n",
      "mean_1 = 4.581185615259196,  mean_2 = 7.024879866599645\n",
      "var_1 = 0.23405821609868094,  var_2 = 1.481254771166775\n"
     ]
    }
   ],
   "source": [
    "prob_c = [sum(prob_s0_x)/ len(prob_s0_x), sum(prob_s1_x)/ len(prob_s1_x) ]\n",
    "mean = [sum([x[0] * x[1] for x in zip(prob_s0_x, data)]) / sum(prob_s0_x), sum([x[0] * x[1] for x in zip(prob_s1_x, data)]) / sum(prob_s1_x) ]\n",
    "var = [ sum([x[0] * (x[1] - mean[0]) ** 2 for x in zip(prob_s0_x, data)]) / sum(prob_s0_x) , sum([x[0] * (x[1] - mean[1]) ** 2 for x in zip(prob_s1_x, data)]) / sum(prob_s1_x) ]\n",
    "\n",
    "print(\"P(S_1) = \" + str(prob_c[0]) + \",  P(S_2) = \" + str(prob_c[1]))\n",
    "print(\"mean_1 = \" + str(mean[0]) + \",  mean_2 = \" + str(mean[1]))\n",
    "print(\"var_1 = \" + str(var[0]) + \",  var_2 = \" + str(var[1]))"
   ]
  },
  {
   "cell_type": "markdown",
   "metadata": {},
   "source": [
    "It looks like the estimates are further from what they should be. This is probably just because the random initialization of the species weights wasn't representative of the actual parameters."
   ]
  },
  {
   "cell_type": "markdown",
   "metadata": {},
   "source": [
    "g) Update `P(S_j | X_i)`. Comment on any differences or lack thereof you observe."
   ]
  },
  {
   "cell_type": "code",
   "execution_count": 47,
   "metadata": {},
   "outputs": [
    {
     "name": "stdout",
     "output_type": "stream",
     "text": [
      "point =  6.741573126937684\n",
      "probability of observing that point if it came from cluster 0 =  3.856469008066481e-05\n",
      "probability of observing that point if it came from cluster 1 =  0.3190280921621556\n",
      "point =  4.732381582389137\n",
      "probability of observing that point if it came from cluster 0 =  0.7853071963082268\n",
      "probability of observing that point if it came from cluster 1 =  0.05560943693091169\n",
      "point =  4.787315074869976\n",
      "probability of observing that point if it came from cluster 0 =  0.7530584239370447\n",
      "probability of observing that point if it came from cluster 1 =  0.06048245863760167\n",
      "point =  6.675454034798956\n",
      "probability of observing that point if it came from cluster 0 =  7.03361470139908e-05\n",
      "probability of observing that point if it came from cluster 1 =  0.3145545311979511\n",
      "point =  9.057116734578575\n",
      "probability of observing that point if it came from cluster 0 =  2.136807152946683e-19\n",
      "probability of observing that point if it came from cluster 1 =  0.08131155459151175\n",
      "point =  5.2351246284288635\n",
      "probability of observing that point if it came from cluster 0 =  0.3307570401536678\n",
      "probability of observing that point if it came from cluster 1 =  0.11117643811700362\n",
      "point =  6.140305301078399\n",
      "probability of observing that point if it came from cluster 0 =  0.0045816924710289616\n",
      "probability of observing that point if it came from cluster 1 =  0.2517023399730762\n",
      "point =  4.6284893897784825\n",
      "probability of observing that point if it came from cluster 0 =  0.8206767803387778\n",
      "probability of observing that point if it came from cluster 1 =  0.0471775603000426\n",
      "point =  3.6541646183444403\n",
      "probability of observing that point if it came from cluster 0 =  0.13151355344516164\n",
      "probability of observing that point if it came from cluster 1 =  0.007079506097351975\n",
      "point =  4.497879431029041\n",
      "probability of observing that point if it came from cluster 0 =  0.8124742719457855\n",
      "probability of observing that point if it came from cluster 1 =  0.037972333724310435\n",
      "6.741573126937684\n",
      "Probability of coming from S_1 = 0.00016483261250677396\n",
      "Probability of coming from S_2 = 0.9998351673874932\n",
      "\n",
      "4.732381582389137\n",
      "Probability of coming from S_1 = 0.9506404280107529\n",
      "Probability of coming from S_2 = 0.04935957198924709\n",
      "\n",
      "4.787315074869976\n",
      "Probability of coming from S_1 = 0.9443845053743244\n",
      "Probability of coming from S_2 = 0.0556154946256756\n",
      "\n",
      "6.675454034798956\n",
      "Probability of coming from S_1 = 0.0003048625115805978\n",
      "Probability of coming from S_2 = 0.9996951374884194\n",
      "\n",
      "9.057116734578575\n",
      "Probability of coming from S_1 = 3.583990744035891e-18\n",
      "Probability of coming from S_2 = 1.0\n",
      "\n",
      "5.2351246284288635\n",
      "Probability of coming from S_1 = 0.8022707925307647\n",
      "Probability of coming from S_2 = 0.19772920746923525\n",
      "\n",
      "6.140305301078399\n",
      "Probability of coming from S_1 = 0.024223824292407003\n",
      "Probability of coming from S_2 = 0.975776175707593\n",
      "\n",
      "4.6284893897784825\n",
      "Probability of coming from S_1 = 0.9595536997273447\n",
      "Probability of coming from S_2 = 0.040446300272655264\n",
      "\n",
      "3.6541646183444403\n",
      "Probability of coming from S_1 = 0.9620277583396762\n",
      "Probability of coming from S_2 = 0.03797224166032374\n",
      "\n",
      "4.497879431029041\n",
      "Probability of coming from S_1 = 0.966866274608915\n",
      "Probability of coming from S_2 = 0.033133725391085014\n",
      "\n"
     ]
    }
   ],
   "source": [
    "prob_s0_x = [] # P(S_0 | X_i)\n",
    "prob_s1_x = [] # P(S_1 | X_i)\n",
    "prob_x = [] # P(X_i)\n",
    "\n",
    "k = 2\n",
    "\n",
    "for p in data:\n",
    "    print(\"point = \", p)\n",
    "    pdf_i = []\n",
    "\n",
    "    for j in range(k):\n",
    "        # P(X_i | S_j)\n",
    "        pdf_i.append(norm.pdf(p, mean[j], sqrt(var[j])))\n",
    "        print(\"probability of observing that point if it came from cluster \" + str(j) + \" = \", pdf_i[j])\n",
    "        # P(S_j) already computed\n",
    "        prob_c[j]\n",
    "\n",
    "    # P(X_i) = P(S_0)P(X_i | S_0) + P(S_1)P(X_i | S_1)\n",
    "    prob_x = prob_c[0] * pdf_i[0] + prob_c[1] * pdf_i[1]\n",
    "\n",
    "    # P(S_j | X_i) = P(X_i | S_j)P(S_j) / P(X_i)\n",
    "    prob_s0_x.append( pdf_i[0] * prob_c[0] / prob_x )\n",
    "    prob_s1_x.append( pdf_i[1] * prob_c[1] / prob_x )\n",
    "\n",
    "probs = zip(data, prob_s0_x, prob_s1_x)\n",
    "for p in probs:\n",
    "    print(p[0])\n",
    "    print(\"Probability of coming from S_1 = \" + str(p[1]))\n",
    "    print(\"Probability of coming from S_2 = \" + str(p[2]))\n",
    "    print()"
   ]
  },
  {
   "cell_type": "markdown",
   "metadata": {},
   "source": [
    "The assignments that these new probabilities would lead to are the same as the previous iteration, but most of the assignments are more \"unsure\" of this; that is, the maximum probability for most of the points decreased from the previous iteration to this one."
   ]
  },
  {
   "cell_type": "markdown",
   "metadata": {},
   "source": [
    "h) Use `P(S_j | X_i)` to create a hard assignment - label each point as belonging to a specific cluster (0 or 1)"
   ]
  },
  {
   "cell_type": "code",
   "execution_count": 52,
   "metadata": {},
   "outputs": [
    {
     "name": "stdout",
     "output_type": "stream",
     "text": [
      "Point 6.741573126937684, Cluster 1\n",
      "Point 4.732381582389137, Cluster 0\n",
      "Point 4.787315074869976, Cluster 0\n",
      "Point 6.675454034798956, Cluster 1\n",
      "Point 9.057116734578575, Cluster 1\n",
      "Point 5.2351246284288635, Cluster 0\n",
      "Point 6.140305301078399, Cluster 1\n",
      "Point 4.6284893897784825, Cluster 0\n",
      "Point 3.6541646183444403, Cluster 0\n",
      "Point 4.497879431029041, Cluster 0\n"
     ]
    }
   ],
   "source": [
    "assignments = zip(data, map(lambda x: 0 if x[0]>x[1] else 1, zip(prob_s0_x, prob_s1_x)))\n",
    "for assignment in assignments:\n",
    "    print(\"Point {}, Cluster {}\".format(*assignment))"
   ]
  }
 ],
 "metadata": {
  "kernelspec": {
   "display_name": "Python 3 (ipykernel)",
   "language": "python",
   "name": "python3"
  },
  "language_info": {
   "codemirror_mode": {
    "name": "ipython",
    "version": 3
   },
   "file_extension": ".py",
   "mimetype": "text/x-python",
   "name": "python",
   "nbconvert_exporter": "python",
   "pygments_lexer": "ipython3",
   "version": "3.9.18"
  },
  "vscode": {
   "interpreter": {
    "hash": "e7370f93d1d0cde622a1f8e1c04877d8463912d04d973331ad4851f04de6915a"
   }
  }
 },
 "nbformat": 4,
 "nbformat_minor": 2
}
